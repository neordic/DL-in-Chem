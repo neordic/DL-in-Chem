{
  "cells": [
    {
      "cell_type": "markdown",
      "metadata": {
        "id": "cZd12p5irR_K"
      },
      "source": [
        "# Convolutional Neural Network. Practice Exercise\n",
        "\n",
        "Again we use the toxicity data for the exercise task. However, this time the molecules are not in SMILES format, but the structures are stored as an image. **You will again predict the toxicity, but this time based on the image**.\n",
        "\n",
        "In fact, this has [already been attempted](https://www.sciencedirect.com/science/article/abs/pii/S0169743919303417).\n",
        "\n",
        "The images consist of `64 x 64` pixels. You will see that this is barely sufficient to see the molecular structure.  However, we are bound to the memory space provided by the university.\n",
        "And a higher resolution does not change the underlying task.\n",
        "\n",
        "## Restart the kernel before beginning the exercise!\n"
      ]
    },
    {
      "cell_type": "code",
      "execution_count": 1,
      "metadata": {
        "id": "izzL0SkYrR_K"
      },
      "outputs": [],
      "source": [
        "import numpy as np\n",
        "import torch\n",
        "from torch import nn\n",
        "from torch.utils import data\n",
        "from matplotlib import pyplot as plt\n",
        "import pandas as pd\n",
        "from sklearn.model_selection import train_test_split\n",
        "import torchvision.transforms as T\n",
        "def min_max(x):\n",
        "    return (x - np.min(x)) / (np.max(x) - np.min(x))"
      ]
    },
    {
      "cell_type": "markdown",
      "metadata": {
        "id": "a2NzbHzXrR_K"
      },
      "source": [
        "First, divide the data into training set and test set. Important: the last column contains the information about the toxicity. So this is our variable to predict."
      ]
    },
    {
      "cell_type": "code",
      "source": [
        "mol_img_data = torch.tensor(pd.read_csv('https://uni-muenster.sciebo.de/s/bUVM12XtVlQY6js/download',\n",
        "                                        delimiter = ',',\n",
        "                                        header = None).values,\n",
        "                            dtype = torch.float32)"
      ],
      "metadata": {
        "id": "FVU_jGrJy4Ls"
      },
      "execution_count": 2,
      "outputs": []
    },
    {
      "cell_type": "code",
      "source": [
        "mol_img_data.shape"
      ],
      "metadata": {
        "colab": {
          "base_uri": "https://localhost:8080/"
        },
        "id": "9C2rHIPHy7-8",
        "outputId": "0b2ec5bf-0f29-4902-e0bb-b77d223389ae"
      },
      "execution_count": 3,
      "outputs": [
        {
          "output_type": "execute_result",
          "data": {
            "text/plain": [
              "torch.Size([2246, 4097])"
            ]
          },
          "metadata": {},
          "execution_count": 3
        }
      ]
    },
    {
      "cell_type": "code",
      "execution_count": 4,
      "metadata": {
        "id": "Szb-3wTZrR_K",
        "colab": {
          "base_uri": "https://localhost:8080/"
        },
        "outputId": "ddbb0c77-38a1-4db3-cff8-2e61e21224ff"
      },
      "outputs": [
        {
          "output_type": "stream",
          "name": "stdout",
          "text": [
            "torch.Size([1796, 4096]) torch.Size([1796])\n"
          ]
        }
      ],
      "source": [
        "# mol_img_data = torch.tensor(pd.read_csv('https://uni-muenster.sciebo.de/s/bUVM12XtVlQY6js/download',\n",
        "#                                         delimiter = ',',\n",
        "#                                         header = None).values,\n",
        "#                             dtype = torch.float32)\n",
        "\n",
        "train, test=train_test_split(mol_img_data, test_size=0.2,train_size=0.8, random_state=1234)\n",
        "\n",
        "train_x = train[:, :-1]\n",
        "train_y = train[:, -1]\n",
        "test_x = test[:, :-1]\n",
        "test_y = test[:, -1]\n",
        "\n",
        "\n",
        "print(train_x.shape, train_y.shape)"
      ]
    },
    {
      "cell_type": "code",
      "source": [],
      "metadata": {
        "id": "r3NeQSpp2cc-"
      },
      "execution_count": null,
      "outputs": []
    },
    {
      "cell_type": "markdown",
      "metadata": {
        "id": "CKCmsnoSrR_K"
      },
      "source": [
        "This is how pixelated the images look:"
      ]
    },
    {
      "cell_type": "code",
      "execution_count": 5,
      "metadata": {
        "id": "GHm-iI6brR_L",
        "colab": {
          "base_uri": "https://localhost:8080/",
          "height": 450
        },
        "outputId": "aaa64f15-9263-49b0-ccea-521d65cb7559"
      },
      "outputs": [
        {
          "output_type": "execute_result",
          "data": {
            "text/plain": [
              "<matplotlib.image.AxesImage at 0x78264e000860>"
            ]
          },
          "metadata": {},
          "execution_count": 5
        },
        {
          "output_type": "display_data",
          "data": {
            "text/plain": [
              "<Figure size 640x480 with 1 Axes>"
            ],
            "image/png": "[encoded data removed]"
          },
          "metadata": {}
        }
      ],
      "source": [
        "plt.imshow(train_x[10,:].view(64,64), cmap= \"gray\")"
      ]
    },
    {
      "cell_type": "markdown",
      "metadata": {
        "id": "vHqLvgmYrR_L"
      },
      "source": [
        "Next, convert the test and training set. Remember that the dimensions should look like this. `Number of Images, Number of Channels, Height, Width`."
      ]
    },
    {
      "cell_type": "code",
      "execution_count": 6,
      "metadata": {
        "id": "D1pcQfMQrR_L",
        "colab": {
          "base_uri": "https://localhost:8080/"
        },
        "outputId": "9e957d95-9d32-4a25-c917-102bc6b013f2"
      },
      "outputs": [
        {
          "output_type": "stream",
          "name": "stdout",
          "text": [
            "torch.Size([1796, 1, 64, 64]) torch.Size([1796])\n"
          ]
        }
      ],
      "source": [
        "train_x = train_x.view(-1, 1, 64, 64)\n",
        "test_x = test_x.view(-1, 1, 64, 64)\n",
        "print(train_x.shape, train_y.shape)"
      ]
    },
    {
      "cell_type": "code",
      "execution_count": 7,
      "metadata": {
        "id": "YBA0xUGbrR_L",
        "colab": {
          "base_uri": "https://localhost:8080/"
        },
        "outputId": "d742c608-e850-460a-84ab-aee7b0476651"
      },
      "outputs": [
        {
          "output_type": "stream",
          "name": "stdout",
          "text": [
            "torch.Size([32, 1, 64, 64]) torch.Size([32])\n"
          ]
        }
      ],
      "source": [
        "torch_train = data.TensorDataset(train_x, train_y)\n",
        "train_loader = data.DataLoader(torch_train, batch_size=32)\n",
        "\n",
        "batch_x, batch_y =next(iter(train_loader))\n",
        "print(batch_x.shape, batch_y.shape)"
      ]
    },
    {
      "cell_type": "markdown",
      "metadata": {
        "id": "6PP-8q9TrR_L"
      },
      "source": [
        "If you have done everything right so far, `batch_x` should have the dimensions `[32, 1, 64, 64]` and `batch_y` should have the dimensions `[32]`. Add at least 2 more convolution layers to the network. Make sure you also use pooling layers and non-linear activation functions."
      ]
    },
    {
      "cell_type": "code",
      "execution_count": 8,
      "metadata": {
        "id": "BUfmRHfgrR_L"
      },
      "outputs": [],
      "source": [
        "cnn = nn.Sequential(nn.Conv2d(in_channels=1, out_channels=3, kernel_size=3, padding=1),\n",
        "                    nn.ReLU(),\n",
        "                    nn.MaxPool2d(kernel_size=2, stride=2),\n",
        "                    nn.Conv2d(in_channels=3, out_channels=6, kernel_size=3, padding=1),\n",
        "                    nn.ReLU(),\n",
        "                    nn.MaxPool2d(kernel_size=2, stride=2),\n",
        "                   )"
      ]
    },
    {
      "cell_type": "code",
      "execution_count": 9,
      "metadata": {
        "scrolled": true,
        "id": "DaGXjoz0rR_M",
        "colab": {
          "base_uri": "https://localhost:8080/"
        },
        "outputId": "13b86c8e-7e42-4286-cbd0-ed14d896eee8"
      },
      "outputs": [
        {
          "output_type": "execute_result",
          "data": {
            "text/plain": [
              "torch.Size([32, 6, 16, 16])"
            ]
          },
          "metadata": {},
          "execution_count": 9
        }
      ],
      "source": [
        "cnn(batch_x).shape"
      ]
    },
    {
      "cell_type": "markdown",
      "metadata": {
        "id": "M8hKmqvqrR_M"
      },
      "source": [
        "Now add a `flatten` layer. From which dimension do we start to add the values together?"
      ]
    },
    {
      "cell_type": "code",
      "execution_count": 10,
      "metadata": {
        "id": "dvJIkGhOrR_M"
      },
      "outputs": [],
      "source": [
        "cnn.add_module(\"flatten\",nn.Flatten(1))"
      ]
    },
    {
      "cell_type": "code",
      "execution_count": 11,
      "metadata": {
        "id": "z2BWHxCerR_M",
        "colab": {
          "base_uri": "https://localhost:8080/"
        },
        "outputId": "1d9d3893-aef7-42cd-cfc3-feefec0bfb32"
      },
      "outputs": [
        {
          "output_type": "execute_result",
          "data": {
            "text/plain": [
              "torch.Size([32, 1536])"
            ]
          },
          "metadata": {},
          "execution_count": 11
        }
      ],
      "source": [
        "cnn(batch_x).shape"
      ]
    },
    {
      "cell_type": "markdown",
      "metadata": {
        "id": "vaCgQwAXrR_M"
      },
      "source": [
        "At last add a `BatchNorm`, `Dropout` and `Linear` layer. Make sure you use the correct input/output dimensions."
      ]
    },
    {
      "cell_type": "code",
      "execution_count": 12,
      "metadata": {
        "id": "6Jdns3ICrR_M"
      },
      "outputs": [],
      "source": [
        "cnn.add_module(\"bn\", nn.BatchNorm1d(1536))\n",
        "cnn.add_module(\"dp\", nn.Dropout(0.2))\n",
        "cnn.add_module(\"fc\", nn.Linear(1536,1))"
      ]
    },
    {
      "cell_type": "code",
      "execution_count": 13,
      "metadata": {
        "id": "DLUsHi9RrR_N",
        "colab": {
          "base_uri": "https://localhost:8080/"
        },
        "outputId": "f91426ff-f9a7-4672-fe74-e96bc0e02044"
      },
      "outputs": [
        {
          "output_type": "execute_result",
          "data": {
            "text/plain": [
              "torch.Size([32, 1])"
            ]
          },
          "metadata": {},
          "execution_count": 13
        }
      ],
      "source": [
        "cnn(batch_x).shape"
      ]
    },
    {
      "cell_type": "markdown",
      "metadata": {
        "id": "oIoNWBt6rR_N"
      },
      "source": [
        "The `shape` should now be `[32, 1]`. Fill in the rest of the training loop."
      ]
    },
    {
      "cell_type": "code",
      "execution_count": 15,
      "metadata": {
        "id": "gJOKbQnlrR_N",
        "colab": {
          "base_uri": "https://localhost:8080/"
        },
        "outputId": "1900c5bc-9415-4266-b119-d51ba951fcc0"
      },
      "outputs": [
        {
          "output_type": "stream",
          "name": "stdout",
          "text": [
            "Training Loss: 0.69 Training Accuracy: 0.67 | Test Loss: 0.66  Test Accuracy: 0.65\n",
            "Training Loss: 0.62 Training Accuracy: 0.69 | Test Loss: 0.64  Test Accuracy: 0.66\n",
            "Training Loss: 0.58 Training Accuracy: 0.72 | Test Loss: 0.64  Test Accuracy: 0.66\n",
            "Training Loss: 0.56 Training Accuracy: 0.73 | Test Loss: 0.64  Test Accuracy: 0.68\n",
            "Training Loss: 0.55 Training Accuracy: 0.74 | Test Loss: 0.63  Test Accuracy: 0.68\n",
            "Training Loss: 0.54 Training Accuracy: 0.73 | Test Loss: 0.65  Test Accuracy: 0.66\n",
            "Training Loss: 0.52 Training Accuracy: 0.75 | Test Loss: 0.64  Test Accuracy: 0.69\n",
            "Training Loss: 0.52 Training Accuracy: 0.76 | Test Loss: 0.63  Test Accuracy: 0.69\n",
            "Training Loss: 0.50 Training Accuracy: 0.77 | Test Loss: 0.64  Test Accuracy: 0.68\n",
            "Training Loss: 0.50 Training Accuracy: 0.76 | Test Loss: 0.66  Test Accuracy: 0.68\n",
            "Training Loss: 0.49 Training Accuracy: 0.73 | Test Loss: 0.70  Test Accuracy: 0.63\n",
            "Training Loss: 0.49 Training Accuracy: 0.78 | Test Loss: 0.66  Test Accuracy: 0.69\n",
            "Training Loss: 0.48 Training Accuracy: 0.78 | Test Loss: 0.67  Test Accuracy: 0.68\n",
            "Training Loss: 0.48 Training Accuracy: 0.76 | Test Loss: 0.70  Test Accuracy: 0.66\n",
            "Training Loss: 0.46 Training Accuracy: 0.79 | Test Loss: 0.67  Test Accuracy: 0.68\n",
            "Training Loss: 0.46 Training Accuracy: 0.75 | Test Loss: 0.73  Test Accuracy: 0.64\n",
            "Training Loss: 0.46 Training Accuracy: 0.74 | Test Loss: 0.75  Test Accuracy: 0.63\n",
            "Training Loss: 0.45 Training Accuracy: 0.79 | Test Loss: 0.67  Test Accuracy: 0.69\n",
            "Training Loss: 0.45 Training Accuracy: 0.79 | Test Loss: 0.67  Test Accuracy: 0.68\n",
            "Training Loss: 0.44 Training Accuracy: 0.79 | Test Loss: 0.68  Test Accuracy: 0.68\n",
            "Training Loss: 0.43 Training Accuracy: 0.80 | Test Loss: 0.67  Test Accuracy: 0.69\n",
            "Training Loss: 0.43 Training Accuracy: 0.80 | Test Loss: 0.67  Test Accuracy: 0.68\n",
            "Training Loss: 0.43 Training Accuracy: 0.81 | Test Loss: 0.66  Test Accuracy: 0.67\n",
            "Training Loss: 0.42 Training Accuracy: 0.80 | Test Loss: 0.70  Test Accuracy: 0.66\n",
            "Training Loss: 0.41 Training Accuracy: 0.80 | Test Loss: 0.68  Test Accuracy: 0.67\n",
            "Training Loss: 0.42 Training Accuracy: 0.80 | Test Loss: 0.68  Test Accuracy: 0.68\n",
            "Training Loss: 0.41 Training Accuracy: 0.81 | Test Loss: 0.66  Test Accuracy: 0.69\n",
            "Training Loss: 0.41 Training Accuracy: 0.81 | Test Loss: 0.67  Test Accuracy: 0.68\n",
            "Training Loss: 0.40 Training Accuracy: 0.82 | Test Loss: 0.66  Test Accuracy: 0.68\n",
            "Training Loss: 0.39 Training Accuracy: 0.83 | Test Loss: 0.67  Test Accuracy: 0.68\n"
          ]
        }
      ],
      "source": [
        "loss_function = nn.BCEWithLogitsLoss()\n",
        "update =  torch.optim.Adam(cnn.parameters(), lr =0.0003)\n",
        "EPOCHS = 30\n",
        "\n",
        "\n",
        "for i in range(EPOCHS):\n",
        "    loss_list = []\n",
        "\n",
        "    cnn.train()\n",
        "    for minibatch in train_loader:\n",
        "        images, labels = minibatch\n",
        "        update.zero_grad()\n",
        "        output = cnn(images)\n",
        "        loss   = loss_function(output.squeeze(), labels)\n",
        "        loss.backward()\n",
        "        loss_list.append(loss.item())\n",
        "        update.step()\n",
        "    cnn.eval()\n",
        "\n",
        "    # Training Evaluation\n",
        "    output = cnn(train_x)\n",
        "    train_acc = torch.sum((output>0).squeeze().int() == train_y)/train_y.shape[0]\n",
        "    # Test Evaluation\n",
        "    output = cnn(test_x)\n",
        "    loss   = loss_function(output.squeeze(), test_y)\n",
        "    test_acc = torch.sum((output>0).squeeze().int() == test_y)/test_y.shape[0]\n",
        "\n",
        "    print(\n",
        "        \"Training Loss: %.2f Training Accuracy: %.2f | Test Loss: %.2f  Test Accuracy: %.2f\"\n",
        "        % (np.mean(loss_list), train_acc, loss.item(),test_acc )\n",
        "    )"
      ]
    },
    {
      "cell_type": "markdown",
      "metadata": {
        "id": "qXW2Ej2erR_N"
      },
      "source": [
        "As you can see, this works only moderately. It definitely works better with fingerprints.\n",
        "Generally, it is more difficult to train CNNs than simpler neural networks.\n",
        "Furthermore, drawing molecules is very inefficient compared to calculation of SMILES or fingerprints/descriptors.\n",
        "\n",
        "In our case, one could argue that our model could also learn better if we had larger and more colorful images. This is probably true. But even in the above paper, CNNs simply could not beat networks with fingerprints.\n",
        "It can be said that images are not an adequate representation of molecules. At least not for machine learning.\n",
        "\n",
        "This is not to say that it cannot be useful to train CNNs on images of molecules.\n",
        "For example, networks that recognize structures and output the appropriate SMILES. This can be used to quickly search patents and chemical publications.\n",
        "\n",
        "\n",
        "For example here:\n",
        "https://jcheminf.biomedcentral.com/articles/10.1186/s13321-021-00538-8"
      ]
    }
  ],
  "metadata": {
    "interpreter": {
      "hash": "b2063f454e5583264956edca724ed174a35400d49c5baf96fcf9ea99fcd5830b"
    },
    "kernelspec": {
      "display_name": "Python 3",
      "language": "python",
      "name": "python3"
    },
    "language_info": {
      "codemirror_mode": {
        "name": "ipython",
        "version": 3
      },
      "file_extension": ".py",
      "mimetype": "text/x-python",
      "name": "python",
      "nbconvert_exporter": "python",
      "pygments_lexer": "ipython3",
      "version": "3.8.5"
    },
    "colab": {
      "provenance": []
    }
  },
  "nbformat": 4,
  "nbformat_minor": 0
}